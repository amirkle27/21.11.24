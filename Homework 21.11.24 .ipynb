{
 "cells": [
  {
   "cell_type": "code",
   "execution_count": 3,
   "id": "af1f297f-1db5-4832-82c9-bf7e1ab270e5",
   "metadata": {},
   "outputs": [],
   "source": [
    "import numpy as np\n",
    "import pandas as pd"
   ]
  },
  {
   "cell_type": "markdown",
   "id": "859f2aba-f5a2-4b8b-968d-594169a404a9",
   "metadata": {},
   "source": [
    "# Exercise 1:"
   ]
  },
  {
   "cell_type": "markdown",
   "id": "9c471644-29e2-4270-9b0d-7d2f11459118",
   "metadata": {},
   "source": [
    "### 1. Add the following DF:"
   ]
  },
  {
   "cell_type": "code",
   "execution_count": 5,
   "id": "4da029db-7273-4f90-9b47-25a2fa94d759",
   "metadata": {},
   "outputs": [],
   "source": [
    "df = pd.DataFrame({\n",
    "'CustomerID': np.arange(1, 11),\n",
    "'FirstName': ['John', 'Steve', 'Anna', 'Mike', 'Emily', 'Jake', 'Laura', 'Nick', 'Olivia',\n",
    "'David'],\n",
    "'LastName': ['Smith', 'Johnson', 'Williams', 'Jones', 'Brown', 'Davis', 'Miller',\n",
    "'Wilson', 'Moore', 'Taylor'],\n",
    "'Age': np.random.randint(25, 65, size=10),\n",
    "'TotalPurchaseAmount': np.random.randint(100, 1000, size=10)\n",
    "})"
   ]
  },
  {
   "cell_type": "code",
   "execution_count": 7,
   "id": "abb411b3-ebde-4b3b-adf8-3ea00edf7c4d",
   "metadata": {},
   "outputs": [
    {
     "name": "stdout",
     "output_type": "stream",
     "text": [
      "   CustomerID FirstName  LastName  Age  TotalPurchaseAmount\n",
      "0           1      John     Smith   25                  530\n",
      "1           2     Steve   Johnson   28                  795\n",
      "2           3      Anna  Williams   37                  468\n",
      "3           4      Mike     Jones   32                  747\n",
      "4           5     Emily     Brown   38                  899\n",
      "5           6      Jake     Davis   34                  356\n",
      "6           7     Laura    Miller   48                  968\n",
      "7           8      Nick    Wilson   26                  823\n",
      "8           9    Olivia     Moore   60                  308\n",
      "9          10     David    Taylor   63                  532\n"
     ]
    }
   ],
   "source": [
    "print (df)"
   ]
  },
  {
   "cell_type": "markdown",
   "id": "e63f910d-51f7-42f7-abf8-b0bb7a44d10f",
   "metadata": {},
   "source": [
    "## 2. Add the 'classification' column to the table, in which TotalPurchaseAmount that lower than 500 will show as 'low', and otherwise will show as 'High'"
   ]
  },
  {
   "cell_type": "code",
   "execution_count": 36,
   "id": "fad9368b-bdbd-4866-a174-38c25a932048",
   "metadata": {},
   "outputs": [
    {
     "name": "stdout",
     "output_type": "stream",
     "text": [
      "   CustomerID FirstName  LastName  Age  TotalPurchaseAmount Classification\n",
      "0           1      John     Smith   25                  530           High\n",
      "1           2     Steve   Johnson   28                  795           High\n",
      "2           3      Anna  Williams   37                  468            Low\n",
      "3           4      Mike     Jones   32                  747           High\n",
      "4           5     Emily     Brown   38                  899           High\n",
      "5           6      Jake     Davis   34                  356            Low\n",
      "6           7     Laura    Miller   48                  968           High\n",
      "7           8      Nick    Wilson   26                  823           High\n",
      "8           9    Olivia     Moore   60                  308            Low\n",
      "9          10     David    Taylor   63                  532           High\n"
     ]
    }
   ],
   "source": [
    "df['Classification'] = df['TotalPurchaseAmount'].apply(lambda amount: 'Low' if amount<500 else 'High')\n",
    "print(df)\n"
   ]
  },
  {
   "cell_type": "markdown",
   "id": "bb99d49c-1025-4e51-aa0d-099e0fdacfa2",
   "metadata": {},
   "source": [
    "### 3. Use the 'classification' column to create 'classification_by_age' and put values according to the following logic:\n",
    "#### If the classification ‘Low’ and the customer age is below 20 put ‘Low_Young’\n",
    "#### If the classification ‘HIGH’’ and the customer age is above 20 put ‘HIGH_Old’\n",
    "#### If the classification ‘Low’ and the customer age is above 20 put ‘Low_Old’\n",
    "#### If the classification ‘High’ and the customer age is below 20 put ‘High_Young’"
   ]
  },
  {
   "cell_type": "code",
   "execution_count": 210,
   "id": "c4b2b45a-2478-4ffc-a61c-31db673eb513",
   "metadata": {},
   "outputs": [],
   "source": [
    "def classification_by_age (row):\n",
    "        if row['Classification'] == 'Low' and row['Age'] <= 20:\n",
    "            return 'Low_Young'\n",
    "        elif row['Classification'] == 'HIGH' and row['Age'] > 20:\n",
    "            return 'HIGH_Old'\n",
    "        elif row['Classification'] == 'Low' and row['Age'] > 20:\n",
    "            return 'Low_Old'\n",
    "        else:\n",
    "            return 'High_Young' \n",
    "                              "
   ]
  },
  {
   "cell_type": "code",
   "execution_count": 218,
   "id": "8a6e83ea-d006-4bd6-ab14-98874cf0c8fb",
   "metadata": {},
   "outputs": [],
   "source": [
    "df['classification_by_age']= df.apply(classification_by_age,axis=1)"
   ]
  },
  {
   "cell_type": "code",
   "execution_count": 220,
   "id": "314526e1-9417-4ac2-a0d0-424ea4345ec6",
   "metadata": {},
   "outputs": [
    {
     "name": "stdout",
     "output_type": "stream",
     "text": [
      "   CustomerID FirstName  LastName  Age  TotalPurchaseAmount Classification  \\\n",
      "0           1      John     Smith   25                  530           High   \n",
      "1           2     Steve   Johnson   28                  795           High   \n",
      "2           3      Anna  Williams   37                  468            Low   \n",
      "3           4      Mike     Jones   32                  747           High   \n",
      "4           5     Emily     Brown   38                  899           High   \n",
      "5           6      Jake     Davis   34                  356            Low   \n",
      "6           7     Laura    Miller   48                  968           High   \n",
      "7           8      Nick    Wilson   26                  823           High   \n",
      "8           9    Olivia     Moore   60                  308            Low   \n",
      "9          10     David    Taylor   63                  532           High   \n",
      "\n",
      "  classification_by_age  \n",
      "0            High_Young  \n",
      "1            High_Young  \n",
      "2               Low_Old  \n",
      "3            High_Young  \n",
      "4            High_Young  \n",
      "5               Low_Old  \n",
      "6            High_Young  \n",
      "7            High_Young  \n",
      "8               Low_Old  \n",
      "9            High_Young  \n"
     ]
    }
   ],
   "source": [
    "print(df)"
   ]
  },
  {
   "cell_type": "markdown",
   "id": "7e123a3d-43d1-4751-887d-af5edc394c61",
   "metadata": {},
   "source": [
    "# Exercise 2:"
   ]
  },
  {
   "cell_type": "markdown",
   "id": "82fb8c77-b2f1-46f4-a2fc-879fe5fb3eab",
   "metadata": {},
   "source": [
    "## 1. Use the df from the previous exercise\n"
   ]
  },
  {
   "cell_type": "code",
   "execution_count": 227,
   "id": "5ad665a7-2db6-427a-9e96-6610fa6b3bef",
   "metadata": {},
   "outputs": [
    {
     "name": "stdout",
     "output_type": "stream",
     "text": [
      "   CustomerID FirstName  LastName  Age  TotalPurchaseAmount Classification  \\\n",
      "0           1      John     Smith   25                  530           High   \n",
      "1           2     Steve   Johnson   28                  795           High   \n",
      "2           3      Anna  Williams   37                  468            Low   \n",
      "3           4      Mike     Jones   32                  747           High   \n",
      "4           5     Emily     Brown   38                  899           High   \n",
      "5           6      Jake     Davis   34                  356            Low   \n",
      "6           7     Laura    Miller   48                  968           High   \n",
      "7           8      Nick    Wilson   26                  823           High   \n",
      "8           9    Olivia     Moore   60                  308            Low   \n",
      "9          10     David    Taylor   63                  532           High   \n",
      "\n",
      "  classification_by_age  \n",
      "0            High_Young  \n",
      "1            High_Young  \n",
      "2               Low_Old  \n",
      "3            High_Young  \n",
      "4            High_Young  \n",
      "5               Low_Old  \n",
      "6            High_Young  \n",
      "7            High_Young  \n",
      "8               Low_Old  \n",
      "9            High_Young  \n"
     ]
    }
   ],
   "source": [
    "print(df)"
   ]
  },
  {
   "cell_type": "markdown",
   "id": "4cff767c-30f0-42bb-a555-14da1d8aaaf9",
   "metadata": {},
   "source": [
    "## 2. Sort the DataFrame by the customer name from A-Z order"
   ]
  },
  {
   "cell_type": "code",
   "execution_count": 248,
   "id": "77b25a94-1538-4946-a829-195d2777b2a6",
   "metadata": {},
   "outputs": [
    {
     "name": "stdout",
     "output_type": "stream",
     "text": [
      "   CustomerID FirstName  LastName  Age  TotalPurchaseAmount Classification  \\\n",
      "2           3      Anna  Williams   37                  468            Low   \n",
      "9          10     David    Taylor   63                  532           High   \n",
      "4           5     Emily     Brown   38                  899           High   \n",
      "5           6      Jake     Davis   34                  356            Low   \n",
      "0           1      John     Smith   25                  530           High   \n",
      "6           7     Laura    Miller   48                  968           High   \n",
      "3           4      Mike     Jones   32                  747           High   \n",
      "7           8      Nick    Wilson   26                  823           High   \n",
      "8           9    Olivia     Moore   60                  308            Low   \n",
      "1           2     Steve   Johnson   28                  795           High   \n",
      "\n",
      "  classification_by_age  \n",
      "2               Low_Old  \n",
      "9            High_Young  \n",
      "4            High_Young  \n",
      "5               Low_Old  \n",
      "0            High_Young  \n",
      "6            High_Young  \n",
      "3            High_Young  \n",
      "7            High_Young  \n",
      "8               Low_Old  \n",
      "1            High_Young  \n"
     ]
    }
   ],
   "source": [
    "print(df.sort_values(['FirstName','LastName'],ascending=[True,True]))\n"
   ]
  },
  {
   "cell_type": "markdown",
   "id": "b7924449-3011-4f7a-b456-90d291caccc4",
   "metadata": {},
   "source": [
    "## 3. Sort the DataFrame first by `TotalPurchaseAmount` in ascending order, and then by `Age` in descending order for rows having the same 'TotalPurchaseAmount'."
   ]
  },
  {
   "cell_type": "code",
   "execution_count": 258,
   "id": "7d19cd2d-636c-45bd-b6db-b16937992552",
   "metadata": {},
   "outputs": [
    {
     "name": "stdout",
     "output_type": "stream",
     "text": [
      "   CustomerID FirstName  LastName  Age  TotalPurchaseAmount Classification  \\\n",
      "8           9    Olivia     Moore   60                  308            Low   \n",
      "5           6      Jake     Davis   34                  356            Low   \n",
      "2           3      Anna  Williams   37                  468            Low   \n",
      "0           1      John     Smith   25                  530           High   \n",
      "9          10     David    Taylor   63                  532           High   \n",
      "3           4      Mike     Jones   32                  747           High   \n",
      "1           2     Steve   Johnson   28                  795           High   \n",
      "7           8      Nick    Wilson   26                  823           High   \n",
      "4           5     Emily     Brown   38                  899           High   \n",
      "6           7     Laura    Miller   48                  968           High   \n",
      "\n",
      "  classification_by_age  \n",
      "8               Low_Old  \n",
      "5               Low_Old  \n",
      "2               Low_Old  \n",
      "0            High_Young  \n",
      "9            High_Young  \n",
      "3            High_Young  \n",
      "1            High_Young  \n",
      "7            High_Young  \n",
      "4            High_Young  \n",
      "6            High_Young  \n"
     ]
    }
   ],
   "source": [
    "print(df.sort_values(['TotalPurchaseAmount','Age'], ascending= [True,False]))"
   ]
  },
  {
   "cell_type": "markdown",
   "id": "64483cc8-f6ee-4754-b4df-d2b21d8d5e5e",
   "metadata": {},
   "source": [
    "# Exercise 3:"
   ]
  },
  {
   "cell_type": "markdown",
   "id": "bc130f3e-6c9f-40e4-b07e-e65b121c3424",
   "metadata": {},
   "source": [
    "## 1. Run the following code to create the df:\n"
   ]
  },
  {
   "cell_type": "code",
   "execution_count": 299,
   "id": "8c823701-9b1c-49e8-b20a-5c22f8b7a6ee",
   "metadata": {},
   "outputs": [],
   "source": [
    "np.random.seed(100)\n",
    "df = pd.DataFrame(np.random.randint(0,100,size=(20, 10)),\n",
    "columns=list('ABCDEFGHIJ'))\n",
    "n_rows, n_cols = df.shape\n",
    "row_idx = np.random.randint(0, n_rows)\n",
    "col_idxs = np.random.choice(n_cols, size=n_cols//2, replace=False)\n",
    "df.iloc[row_idx, col_idxs] = np.nan\n",
    "n_nan_remaining = 15 - len(col_idxs)\n",
    "row_idxs = np.random.randint(0, n_rows, size=n_nan_remaining)\n",
    "col_idxs = np.random.randint(0, n_cols, size=n_nan_remaining)\n",
    "df.iloc[row_idxs, col_idxs] = np.nan"
   ]
  },
  {
   "cell_type": "markdown",
   "id": "6fca0933-7e07-40b3-8117-17add1e290fe",
   "metadata": {},
   "source": [
    "## 2. In any exercise create a copy from the original df"
   ]
  },
  {
   "cell_type": "code",
   "execution_count": 302,
   "id": "54e297bd-f59c-4641-9d0a-c9ac80c08cbb",
   "metadata": {},
   "outputs": [
    {
     "name": "stdout",
     "output_type": "stream",
     "text": [
      "       A   B   C     D     E     F     G     H     I     J\n",
      "0    8.0  24  67  87.0  79.0  48.0  10.0  94.0  52.0  98.0\n",
      "1    NaN  66  98   NaN   NaN   NaN   NaN   NaN   NaN  16.0\n",
      "2    9.0  93  86   2.0  27.0   4.0  31.0   1.0  13.0  83.0\n",
      "3    4.0  91  59  67.0   7.0  49.0  47.0  65.0  61.0  14.0\n",
      "4   55.0  71  80   2.0  94.0  19.0  98.0  63.0  53.0  27.0\n",
      "5    NaN  30  48   NaN   NaN   NaN   NaN   NaN   NaN  56.0\n",
      "6    NaN  53  74   NaN   NaN   NaN   NaN   NaN   NaN  68.0\n",
      "7   50.0  91  91  83.0  53.0  78.0   0.0  13.0  57.0  76.0\n",
      "8    3.0  70   3  84.0  79.0  10.0  87.0  60.0   3.0  48.0\n",
      "9   52.0  43  36   5.0  71.0  38.0  86.0  94.0  98.0  42.0\n",
      "10   NaN  95  76   NaN   NaN   NaN   NaN   NaN   NaN  98.0\n",
      "11   NaN  53  68   NaN   NaN   NaN   NaN   NaN   NaN  48.0\n",
      "12   NaN  25  54   NaN   NaN   NaN   NaN   NaN   NaN  30.0\n",
      "13  66.0  24  55  17.0  45.0  89.0  45.0  35.0  16.0  12.0\n",
      "14  86.0  82  67  92.0  95.0  20.0  10.0   8.0  89.0  72.0\n",
      "15  30.0  12  18  93.0  92.0  44.0  57.0   0.0  73.0  54.0\n",
      "16   NaN  66  16   NaN   NaN   NaN   NaN   NaN   NaN  78.0\n",
      "17   NaN  77  84   NaN   NaN   NaN   NaN   NaN   NaN  93.0\n",
      "18   NaN  28  82   NaN   NaN   NaN   NaN   NaN   NaN   NaN\n",
      "19   NaN  90  93   NaN   NaN   NaN   NaN   NaN   NaN  37.0\n"
     ]
    }
   ],
   "source": [
    "print(df)"
   ]
  },
  {
   "cell_type": "markdown",
   "id": "30833377-c9e3-4bca-b69e-eb941531040a",
   "metadata": {},
   "source": [
    "## 3. Drop all the rows containing any NaN values"
   ]
  },
  {
   "cell_type": "code",
   "execution_count": 305,
   "id": "64a0fb7f-b672-4714-b6ee-f256136c2f27",
   "metadata": {},
   "outputs": [
    {
     "name": "stdout",
     "output_type": "stream",
     "text": [
      "       A   B   C     D     E     F     G     H     I     J\n",
      "0    8.0  24  67  87.0  79.0  48.0  10.0  94.0  52.0  98.0\n",
      "2    9.0  93  86   2.0  27.0   4.0  31.0   1.0  13.0  83.0\n",
      "3    4.0  91  59  67.0   7.0  49.0  47.0  65.0  61.0  14.0\n",
      "4   55.0  71  80   2.0  94.0  19.0  98.0  63.0  53.0  27.0\n",
      "7   50.0  91  91  83.0  53.0  78.0   0.0  13.0  57.0  76.0\n",
      "8    3.0  70   3  84.0  79.0  10.0  87.0  60.0   3.0  48.0\n",
      "9   52.0  43  36   5.0  71.0  38.0  86.0  94.0  98.0  42.0\n",
      "13  66.0  24  55  17.0  45.0  89.0  45.0  35.0  16.0  12.0\n",
      "14  86.0  82  67  92.0  95.0  20.0  10.0   8.0  89.0  72.0\n",
      "15  30.0  12  18  93.0  92.0  44.0  57.0   0.0  73.0  54.0\n"
     ]
    }
   ],
   "source": [
    "print(df.dropna(axis=0))"
   ]
  },
  {
   "cell_type": "markdown",
   "id": "7ebc71af-a28f-424b-9dab-d3713fc4300a",
   "metadata": {},
   "source": [
    "## 4. Fill the NaN values using a random value between 0-100"
   ]
  },
  {
   "cell_type": "code",
   "execution_count": 312,
   "id": "8ee0be0c-d8ed-4486-ae6a-ae9842b34595",
   "metadata": {},
   "outputs": [
    {
     "name": "stdout",
     "output_type": "stream",
     "text": [
      "       A   B   C     D     E     F     G     H     I     J\n",
      "0    8.0  24  67  87.0  79.0  48.0  10.0  94.0  52.0  98.0\n",
      "1   94.0  66  98  94.0  94.0  94.0  94.0  94.0  94.0  16.0\n",
      "2    9.0  93  86   2.0  27.0   4.0  31.0   1.0  13.0  83.0\n",
      "3    4.0  91  59  67.0   7.0  49.0  47.0  65.0  61.0  14.0\n",
      "4   55.0  71  80   2.0  94.0  19.0  98.0  63.0  53.0  27.0\n",
      "5   94.0  30  48  94.0  94.0  94.0  94.0  94.0  94.0  56.0\n",
      "6   94.0  53  74  94.0  94.0  94.0  94.0  94.0  94.0  68.0\n",
      "7   50.0  91  91  83.0  53.0  78.0   0.0  13.0  57.0  76.0\n",
      "8    3.0  70   3  84.0  79.0  10.0  87.0  60.0   3.0  48.0\n",
      "9   52.0  43  36   5.0  71.0  38.0  86.0  94.0  98.0  42.0\n",
      "10  94.0  95  76  94.0  94.0  94.0  94.0  94.0  94.0  98.0\n",
      "11  94.0  53  68  94.0  94.0  94.0  94.0  94.0  94.0  48.0\n",
      "12  94.0  25  54  94.0  94.0  94.0  94.0  94.0  94.0  30.0\n",
      "13  66.0  24  55  17.0  45.0  89.0  45.0  35.0  16.0  12.0\n",
      "14  86.0  82  67  92.0  95.0  20.0  10.0   8.0  89.0  72.0\n",
      "15  30.0  12  18  93.0  92.0  44.0  57.0   0.0  73.0  54.0\n",
      "16  94.0  66  16  94.0  94.0  94.0  94.0  94.0  94.0  78.0\n",
      "17  94.0  77  84  94.0  94.0  94.0  94.0  94.0  94.0  93.0\n",
      "18  94.0  28  82  94.0  94.0  94.0  94.0  94.0  94.0  94.0\n",
      "19  94.0  90  93  94.0  94.0  94.0  94.0  94.0  94.0  37.0\n"
     ]
    }
   ],
   "source": [
    "print(df.fillna(np.random.randint(0,100)))"
   ]
  },
  {
   "cell_type": "markdown",
   "id": "71b17df1-8d83-48f3-9565-ea3f6093865b",
   "metadata": {},
   "source": [
    "## 5. Fill the NaN values in the C and D columns with the mean value of the columns"
   ]
  },
  {
   "cell_type": "code",
   "execution_count": 347,
   "id": "3a7ac02e-4648-4ed8-b730-e9f9f35c724f",
   "metadata": {},
   "outputs": [
    {
     "name": "stdout",
     "output_type": "stream",
     "text": [
      "       A   B   C     D     E     F     G     H     I     J\n",
      "0    8.0  24  67  87.0  79.0  48.0  10.0  94.0  52.0  98.0\n",
      "1    NaN  66  98  53.2  64.2   NaN   NaN   NaN   NaN  16.0\n",
      "2    9.0  93  86   2.0  27.0   4.0  31.0   1.0  13.0  83.0\n",
      "3    4.0  91  59  67.0   7.0  49.0  47.0  65.0  61.0  14.0\n",
      "4   55.0  71  80   2.0  94.0  19.0  98.0  63.0  53.0  27.0\n",
      "5    NaN  30  48  53.2  64.2   NaN   NaN   NaN   NaN  56.0\n",
      "6    NaN  53  74  53.2  64.2   NaN   NaN   NaN   NaN  68.0\n",
      "7   50.0  91  91  83.0  53.0  78.0   0.0  13.0  57.0  76.0\n",
      "8    3.0  70   3  84.0  79.0  10.0  87.0  60.0   3.0  48.0\n",
      "9   52.0  43  36   5.0  71.0  38.0  86.0  94.0  98.0  42.0\n",
      "10   NaN  95  76  53.2  64.2   NaN   NaN   NaN   NaN  98.0\n",
      "11   NaN  53  68  53.2  64.2   NaN   NaN   NaN   NaN  48.0\n",
      "12   NaN  25  54  53.2  64.2   NaN   NaN   NaN   NaN  30.0\n",
      "13  66.0  24  55  17.0  45.0  89.0  45.0  35.0  16.0  12.0\n",
      "14  86.0  82  67  92.0  95.0  20.0  10.0   8.0  89.0  72.0\n",
      "15  30.0  12  18  93.0  92.0  44.0  57.0   0.0  73.0  54.0\n",
      "16   NaN  66  16  53.2  64.2   NaN   NaN   NaN   NaN  78.0\n",
      "17   NaN  77  84  53.2  64.2   NaN   NaN   NaN   NaN  93.0\n",
      "18   NaN  28  82  53.2  64.2   NaN   NaN   NaN   NaN   NaN\n",
      "19   NaN  90  93  53.2  64.2   NaN   NaN   NaN   NaN  37.0\n"
     ]
    }
   ],
   "source": [
    "means = df[['C','D']].mean()\n",
    "print(df.fillna(means))"
   ]
  },
  {
   "cell_type": "markdown",
   "id": "94ba29a6-2af1-4736-8f7d-aab52bb7c09b",
   "metadata": {},
   "source": [
    "## Drop the NaN values for all columns with at least 2 NaN’s in all columns beside\n",
    "the ‘D’ column"
   ]
  },
  {
   "cell_type": "code",
   "execution_count": 442,
   "id": "69cb70df-db85-4d7b-a19f-3cfe093814a5",
   "metadata": {},
   "outputs": [
    {
     "name": "stdout",
     "output_type": "stream",
     "text": [
      "       D   B   C     J\n",
      "0   87.0  24  67  98.0\n",
      "1    NaN  66  98  16.0\n",
      "2    2.0  93  86  83.0\n",
      "3   67.0  91  59  14.0\n",
      "4    2.0  71  80  27.0\n",
      "5    NaN  30  48  56.0\n",
      "6    NaN  53  74  68.0\n",
      "7   83.0  91  91  76.0\n",
      "8   84.0  70   3  48.0\n",
      "9    5.0  43  36  42.0\n",
      "10   NaN  95  76  98.0\n",
      "11   NaN  53  68  48.0\n",
      "12   NaN  25  54  30.0\n",
      "13  17.0  24  55  12.0\n",
      "14  92.0  82  67  72.0\n",
      "15  93.0  12  18  54.0\n",
      "16   NaN  66  16  78.0\n",
      "17   NaN  77  84  93.0\n",
      "18   NaN  28  82   NaN\n",
      "19   NaN  90  93  37.0\n"
     ]
    }
   ],
   "source": [
    "keep = ['D']\n",
    "keep += df.columns[df.isna().sum()<2].tolist()\n",
    "print(df[keep])"
   ]
  },
  {
   "cell_type": "code",
   "execution_count": 560,
   "id": "3bbe0093-e2b2-48a3-958e-d1ab86df579a",
   "metadata": {},
   "outputs": [
    {
     "name": "stdout",
     "output_type": "stream",
     "text": [
      "       A   B   C     D     E     F     G     H     I     J\n",
      "0    8.0  24  67  87.0  79.0  48.0  10.0  94.0  52.0  98.0\n",
      "1    NaN  66  98   NaN   NaN   NaN   NaN   NaN   NaN  16.0\n",
      "2    9.0  93  86   2.0  27.0   4.0  31.0   1.0  13.0  83.0\n",
      "3    4.0  91  59  67.0   7.0  49.0  47.0  65.0  61.0  14.0\n",
      "4   55.0  71  80   2.0  94.0  19.0  98.0  63.0  53.0  27.0\n",
      "5    NaN  30  48   NaN   NaN   NaN   NaN   NaN   NaN  56.0\n",
      "6    NaN  53  74   NaN   NaN   NaN   NaN   NaN   NaN  68.0\n",
      "7   50.0  91  91  83.0  53.0  78.0   0.0  13.0  57.0  76.0\n",
      "8    3.0  70   3  84.0  79.0  10.0  87.0  60.0   3.0  48.0\n",
      "9   52.0  43  36   5.0  71.0  38.0  86.0  94.0  98.0  42.0\n",
      "10   NaN  95  76   NaN   NaN   NaN   NaN   NaN   NaN  98.0\n",
      "11   NaN  53  68   NaN   NaN   NaN   NaN   NaN   NaN  48.0\n",
      "12   NaN  25  54   NaN   NaN   NaN   NaN   NaN   NaN  30.0\n",
      "13  66.0  24  55  17.0  45.0  89.0  45.0  35.0  16.0  12.0\n",
      "14  86.0  82  67  92.0  95.0  20.0  10.0   8.0  89.0  72.0\n",
      "15  30.0  12  18  93.0  92.0  44.0  57.0   0.0  73.0  54.0\n",
      "16   NaN  66  16   NaN   NaN   NaN   NaN   NaN   NaN  78.0\n",
      "17   NaN  77  84   NaN   NaN   NaN   NaN   NaN   NaN  93.0\n",
      "18   NaN  28  82   NaN   NaN   NaN   NaN   NaN   NaN   NaN\n",
      "19   NaN  90  93   NaN   NaN   NaN   NaN   NaN   NaN  37.0\n"
     ]
    },
    {
     "data": {
      "text/html": [
       "<div>\n",
       "<style scoped>\n",
       "    .dataframe tbody tr th:only-of-type {\n",
       "        vertical-align: middle;\n",
       "    }\n",
       "\n",
       "    .dataframe tbody tr th {\n",
       "        vertical-align: top;\n",
       "    }\n",
       "\n",
       "    .dataframe thead th {\n",
       "        text-align: right;\n",
       "    }\n",
       "</style>\n",
       "<table border=\"1\" class=\"dataframe\">\n",
       "  <thead>\n",
       "    <tr style=\"text-align: right;\">\n",
       "      <th></th>\n",
       "      <th>A</th>\n",
       "      <th>B</th>\n",
       "      <th>C</th>\n",
       "      <th>D</th>\n",
       "      <th>E</th>\n",
       "      <th>F</th>\n",
       "      <th>G</th>\n",
       "      <th>H</th>\n",
       "      <th>I</th>\n",
       "      <th>J</th>\n",
       "    </tr>\n",
       "  </thead>\n",
       "  <tbody>\n",
       "    <tr>\n",
       "      <th>0</th>\n",
       "      <td>8.0</td>\n",
       "      <td>24</td>\n",
       "      <td>67</td>\n",
       "      <td>87.0</td>\n",
       "      <td>79.0</td>\n",
       "      <td>48.0</td>\n",
       "      <td>10.0</td>\n",
       "      <td>94.0</td>\n",
       "      <td>52.0</td>\n",
       "      <td>98.0</td>\n",
       "    </tr>\n",
       "    <tr>\n",
       "      <th>1</th>\n",
       "      <td>NaN</td>\n",
       "      <td>66</td>\n",
       "      <td>98</td>\n",
       "      <td>NaN</td>\n",
       "      <td>NaN</td>\n",
       "      <td>NaN</td>\n",
       "      <td>NaN</td>\n",
       "      <td>NaN</td>\n",
       "      <td>NaN</td>\n",
       "      <td>16.0</td>\n",
       "    </tr>\n",
       "    <tr>\n",
       "      <th>2</th>\n",
       "      <td>9.0</td>\n",
       "      <td>93</td>\n",
       "      <td>86</td>\n",
       "      <td>2.0</td>\n",
       "      <td>27.0</td>\n",
       "      <td>4.0</td>\n",
       "      <td>31.0</td>\n",
       "      <td>1.0</td>\n",
       "      <td>13.0</td>\n",
       "      <td>83.0</td>\n",
       "    </tr>\n",
       "    <tr>\n",
       "      <th>3</th>\n",
       "      <td>4.0</td>\n",
       "      <td>91</td>\n",
       "      <td>59</td>\n",
       "      <td>67.0</td>\n",
       "      <td>7.0</td>\n",
       "      <td>49.0</td>\n",
       "      <td>47.0</td>\n",
       "      <td>65.0</td>\n",
       "      <td>61.0</td>\n",
       "      <td>14.0</td>\n",
       "    </tr>\n",
       "    <tr>\n",
       "      <th>4</th>\n",
       "      <td>55.0</td>\n",
       "      <td>71</td>\n",
       "      <td>80</td>\n",
       "      <td>2.0</td>\n",
       "      <td>94.0</td>\n",
       "      <td>19.0</td>\n",
       "      <td>98.0</td>\n",
       "      <td>63.0</td>\n",
       "      <td>53.0</td>\n",
       "      <td>27.0</td>\n",
       "    </tr>\n",
       "    <tr>\n",
       "      <th>5</th>\n",
       "      <td>NaN</td>\n",
       "      <td>30</td>\n",
       "      <td>48</td>\n",
       "      <td>NaN</td>\n",
       "      <td>NaN</td>\n",
       "      <td>NaN</td>\n",
       "      <td>NaN</td>\n",
       "      <td>NaN</td>\n",
       "      <td>NaN</td>\n",
       "      <td>56.0</td>\n",
       "    </tr>\n",
       "    <tr>\n",
       "      <th>6</th>\n",
       "      <td>NaN</td>\n",
       "      <td>53</td>\n",
       "      <td>74</td>\n",
       "      <td>NaN</td>\n",
       "      <td>NaN</td>\n",
       "      <td>NaN</td>\n",
       "      <td>NaN</td>\n",
       "      <td>NaN</td>\n",
       "      <td>NaN</td>\n",
       "      <td>68.0</td>\n",
       "    </tr>\n",
       "    <tr>\n",
       "      <th>7</th>\n",
       "      <td>50.0</td>\n",
       "      <td>91</td>\n",
       "      <td>91</td>\n",
       "      <td>83.0</td>\n",
       "      <td>53.0</td>\n",
       "      <td>78.0</td>\n",
       "      <td>0.0</td>\n",
       "      <td>13.0</td>\n",
       "      <td>57.0</td>\n",
       "      <td>76.0</td>\n",
       "    </tr>\n",
       "    <tr>\n",
       "      <th>8</th>\n",
       "      <td>3.0</td>\n",
       "      <td>70</td>\n",
       "      <td>3</td>\n",
       "      <td>84.0</td>\n",
       "      <td>79.0</td>\n",
       "      <td>10.0</td>\n",
       "      <td>87.0</td>\n",
       "      <td>60.0</td>\n",
       "      <td>3.0</td>\n",
       "      <td>48.0</td>\n",
       "    </tr>\n",
       "    <tr>\n",
       "      <th>9</th>\n",
       "      <td>52.0</td>\n",
       "      <td>43</td>\n",
       "      <td>36</td>\n",
       "      <td>5.0</td>\n",
       "      <td>71.0</td>\n",
       "      <td>38.0</td>\n",
       "      <td>86.0</td>\n",
       "      <td>94.0</td>\n",
       "      <td>98.0</td>\n",
       "      <td>42.0</td>\n",
       "    </tr>\n",
       "    <tr>\n",
       "      <th>10</th>\n",
       "      <td>NaN</td>\n",
       "      <td>95</td>\n",
       "      <td>76</td>\n",
       "      <td>NaN</td>\n",
       "      <td>NaN</td>\n",
       "      <td>NaN</td>\n",
       "      <td>NaN</td>\n",
       "      <td>NaN</td>\n",
       "      <td>NaN</td>\n",
       "      <td>98.0</td>\n",
       "    </tr>\n",
       "    <tr>\n",
       "      <th>11</th>\n",
       "      <td>NaN</td>\n",
       "      <td>53</td>\n",
       "      <td>68</td>\n",
       "      <td>NaN</td>\n",
       "      <td>NaN</td>\n",
       "      <td>NaN</td>\n",
       "      <td>NaN</td>\n",
       "      <td>NaN</td>\n",
       "      <td>NaN</td>\n",
       "      <td>48.0</td>\n",
       "    </tr>\n",
       "    <tr>\n",
       "      <th>12</th>\n",
       "      <td>NaN</td>\n",
       "      <td>25</td>\n",
       "      <td>54</td>\n",
       "      <td>NaN</td>\n",
       "      <td>NaN</td>\n",
       "      <td>NaN</td>\n",
       "      <td>NaN</td>\n",
       "      <td>NaN</td>\n",
       "      <td>NaN</td>\n",
       "      <td>30.0</td>\n",
       "    </tr>\n",
       "    <tr>\n",
       "      <th>13</th>\n",
       "      <td>66.0</td>\n",
       "      <td>24</td>\n",
       "      <td>55</td>\n",
       "      <td>17.0</td>\n",
       "      <td>45.0</td>\n",
       "      <td>89.0</td>\n",
       "      <td>45.0</td>\n",
       "      <td>35.0</td>\n",
       "      <td>16.0</td>\n",
       "      <td>12.0</td>\n",
       "    </tr>\n",
       "    <tr>\n",
       "      <th>14</th>\n",
       "      <td>86.0</td>\n",
       "      <td>82</td>\n",
       "      <td>67</td>\n",
       "      <td>92.0</td>\n",
       "      <td>95.0</td>\n",
       "      <td>20.0</td>\n",
       "      <td>10.0</td>\n",
       "      <td>8.0</td>\n",
       "      <td>89.0</td>\n",
       "      <td>72.0</td>\n",
       "    </tr>\n",
       "    <tr>\n",
       "      <th>15</th>\n",
       "      <td>30.0</td>\n",
       "      <td>12</td>\n",
       "      <td>18</td>\n",
       "      <td>93.0</td>\n",
       "      <td>92.0</td>\n",
       "      <td>44.0</td>\n",
       "      <td>57.0</td>\n",
       "      <td>0.0</td>\n",
       "      <td>73.0</td>\n",
       "      <td>54.0</td>\n",
       "    </tr>\n",
       "    <tr>\n",
       "      <th>16</th>\n",
       "      <td>NaN</td>\n",
       "      <td>66</td>\n",
       "      <td>16</td>\n",
       "      <td>NaN</td>\n",
       "      <td>NaN</td>\n",
       "      <td>NaN</td>\n",
       "      <td>NaN</td>\n",
       "      <td>NaN</td>\n",
       "      <td>NaN</td>\n",
       "      <td>78.0</td>\n",
       "    </tr>\n",
       "    <tr>\n",
       "      <th>17</th>\n",
       "      <td>NaN</td>\n",
       "      <td>77</td>\n",
       "      <td>84</td>\n",
       "      <td>NaN</td>\n",
       "      <td>NaN</td>\n",
       "      <td>NaN</td>\n",
       "      <td>NaN</td>\n",
       "      <td>NaN</td>\n",
       "      <td>NaN</td>\n",
       "      <td>93.0</td>\n",
       "    </tr>\n",
       "    <tr>\n",
       "      <th>18</th>\n",
       "      <td>NaN</td>\n",
       "      <td>28</td>\n",
       "      <td>82</td>\n",
       "      <td>NaN</td>\n",
       "      <td>NaN</td>\n",
       "      <td>NaN</td>\n",
       "      <td>NaN</td>\n",
       "      <td>NaN</td>\n",
       "      <td>NaN</td>\n",
       "      <td>NaN</td>\n",
       "    </tr>\n",
       "    <tr>\n",
       "      <th>19</th>\n",
       "      <td>NaN</td>\n",
       "      <td>90</td>\n",
       "      <td>93</td>\n",
       "      <td>NaN</td>\n",
       "      <td>NaN</td>\n",
       "      <td>NaN</td>\n",
       "      <td>NaN</td>\n",
       "      <td>NaN</td>\n",
       "      <td>NaN</td>\n",
       "      <td>37.0</td>\n",
       "    </tr>\n",
       "  </tbody>\n",
       "</table>\n",
       "</div>"
      ],
      "text/plain": [
       "       A   B   C     D     E     F     G     H     I     J\n",
       "0    8.0  24  67  87.0  79.0  48.0  10.0  94.0  52.0  98.0\n",
       "1    NaN  66  98   NaN   NaN   NaN   NaN   NaN   NaN  16.0\n",
       "2    9.0  93  86   2.0  27.0   4.0  31.0   1.0  13.0  83.0\n",
       "3    4.0  91  59  67.0   7.0  49.0  47.0  65.0  61.0  14.0\n",
       "4   55.0  71  80   2.0  94.0  19.0  98.0  63.0  53.0  27.0\n",
       "5    NaN  30  48   NaN   NaN   NaN   NaN   NaN   NaN  56.0\n",
       "6    NaN  53  74   NaN   NaN   NaN   NaN   NaN   NaN  68.0\n",
       "7   50.0  91  91  83.0  53.0  78.0   0.0  13.0  57.0  76.0\n",
       "8    3.0  70   3  84.0  79.0  10.0  87.0  60.0   3.0  48.0\n",
       "9   52.0  43  36   5.0  71.0  38.0  86.0  94.0  98.0  42.0\n",
       "10   NaN  95  76   NaN   NaN   NaN   NaN   NaN   NaN  98.0\n",
       "11   NaN  53  68   NaN   NaN   NaN   NaN   NaN   NaN  48.0\n",
       "12   NaN  25  54   NaN   NaN   NaN   NaN   NaN   NaN  30.0\n",
       "13  66.0  24  55  17.0  45.0  89.0  45.0  35.0  16.0  12.0\n",
       "14  86.0  82  67  92.0  95.0  20.0  10.0   8.0  89.0  72.0\n",
       "15  30.0  12  18  93.0  92.0  44.0  57.0   0.0  73.0  54.0\n",
       "16   NaN  66  16   NaN   NaN   NaN   NaN   NaN   NaN  78.0\n",
       "17   NaN  77  84   NaN   NaN   NaN   NaN   NaN   NaN  93.0\n",
       "18   NaN  28  82   NaN   NaN   NaN   NaN   NaN   NaN   NaN\n",
       "19   NaN  90  93   NaN   NaN   NaN   NaN   NaN   NaN  37.0"
      ]
     },
     "execution_count": 560,
     "metadata": {},
     "output_type": "execute_result"
    }
   ],
   "source": [
    "print(df)\n",
    "df.apply(lambda col: col.dropna() if col.isna().sum()>1  and not 'D'else col)"
   ]
  }
 ],
 "metadata": {
  "kernelspec": {
   "display_name": "Python 3 (ipykernel)",
   "language": "python",
   "name": "python3"
  },
  "language_info": {
   "codemirror_mode": {
    "name": "ipython",
    "version": 3
   },
   "file_extension": ".py",
   "mimetype": "text/x-python",
   "name": "python",
   "nbconvert_exporter": "python",
   "pygments_lexer": "ipython3",
   "version": "3.12.7"
  }
 },
 "nbformat": 4,
 "nbformat_minor": 5
}
